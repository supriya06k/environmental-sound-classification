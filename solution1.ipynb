{
  "nbformat": 4,
  "nbformat_minor": 0,
  "metadata": {
    "colab": {
      "name": "coding_mbreath_challenge.ipynb",
      "version": "0.3.2",
      "provenance": [],
      "collapsed_sections": [
        "rdMO8WucSSpb",
        "2ZvxvABGShrf",
        "VGYBxAqgSk1N"
      ],
      "include_colab_link": true
    },
    "kernelspec": {
      "name": "python3",
      "display_name": "Python 3"
    }
  },
  "cells": [
    {
      "cell_type": "markdown",
      "metadata": {
        "id": "view-in-github",
        "colab_type": "text"
      },
      "source": [
        "[View in Colaboratory](https://colab.research.google.com/github/supriyakmri/environmental-sound-classification/blob/master/solution1.ipynb)"
      ]
    },
    {
      "metadata": {
        "id": "jgXQg1-DRprS",
        "colab_type": "text"
      },
      "cell_type": "markdown",
      "source": [
        "\n",
        "\n",
        "```\n",
        "Step 1 : Downloaded Dataset File From DropBox\n",
        "Step 2: Uploaded Dataset In Google Drive\n",
        "Step 3: Using ZIP Extractor (Decompress ZIP files to Google Drive) and renamed folder as sample\n",
        "```\n",
        "\n"
      ]
    },
    {
      "metadata": {
        "id": "5m-JONUZRtWo",
        "colab_type": "text"
      },
      "cell_type": "markdown",
      "source": [
        "### Step 4 : Establishing Connection With Google **Drive**\n",
        "\n"
      ]
    },
    {
      "metadata": {
        "id": "9ORz3oLeRrY-",
        "colab_type": "code",
        "colab": {
          "base_uri": "https://localhost:8080/",
          "height": 54
        },
        "outputId": "6cc929c8-2a3a-46f3-98fb-d40b6a8ad6d0"
      },
      "cell_type": "code",
      "source": [
        "\"\"\"\n",
        "!apt-get install -y -qq software-properties-common python-software-properties module-init-tools\n",
        "!add-apt-repository -y ppa:alessandro-strada/ppa 2>&1 > /dev/null\n",
        "!apt-get update -qq 2>&1 > /dev/null\n",
        "!apt-get -y install -qq google-drive-ocamlfuse fuse\n",
        "\"\"\""
      ],
      "execution_count": 1,
      "outputs": [
        {
          "output_type": "execute_result",
          "data": {
            "text/plain": [
              "'\\n!apt-get install -y -qq software-properties-common python-software-properties module-init-tools\\n!add-apt-repository -y ppa:alessandro-strada/ppa 2>&1 > /dev/null\\n!apt-get update -qq 2>&1 > /dev/null\\n!apt-get -y install -qq google-drive-ocamlfuse fuse\\n'"
            ]
          },
          "metadata": {
            "tags": []
          },
          "execution_count": 1
        }
      ]
    },
    {
      "metadata": {
        "id": "LWvwoVHMRy8F",
        "colab_type": "code",
        "colab": {
          "base_uri": "https://localhost:8080/",
          "height": 34
        },
        "outputId": "a0176484-c650-4d4b-96e6-95b54227399d"
      },
      "cell_type": "code",
      "source": [
        "\"\"\"\n",
        "from google.colab import auth\n",
        "auth.authenticate_user()\n",
        "\"\"\""
      ],
      "execution_count": 2,
      "outputs": [
        {
          "output_type": "execute_result",
          "data": {
            "text/plain": [
              "'\\nfrom google.colab import auth\\nauth.authenticate_user()\\n'"
            ]
          },
          "metadata": {
            "tags": []
          },
          "execution_count": 2
        }
      ]
    },
    {
      "metadata": {
        "id": "L03mZcfER0BS",
        "colab_type": "code",
        "colab": {
          "base_uri": "https://localhost:8080/",
          "height": 54
        },
        "outputId": "4f3f17ae-a2be-4010-d74e-248842c4d5b6"
      },
      "cell_type": "code",
      "source": [
        "\"\"\"\n",
        "from oauth2client.client import GoogleCredentials\n",
        "creds = GoogleCredentials.get_application_default()\n",
        "import getpass\n",
        "!google-drive-ocamlfuse -headless -id={creds.client_id} -secret={creds.client_secret} < /dev/null 2>&1 | grep URL\n",
        "vcode = getpass.getpass()\n",
        "!echo {vcode} | google-drive-ocamlfuse -headless -id={creds.client_id} -secret={creds.client_secret}\n",
        "\"\"\""
      ],
      "execution_count": 3,
      "outputs": [
        {
          "output_type": "execute_result",
          "data": {
            "text/plain": [
              "'\\nfrom oauth2client.client import GoogleCredentials\\ncreds = GoogleCredentials.get_application_default()\\nimport getpass\\n!google-drive-ocamlfuse -headless -id={creds.client_id} -secret={creds.client_secret} < /dev/null 2>&1 | grep URL\\nvcode = getpass.getpass()\\n!echo {vcode} | google-drive-ocamlfuse -headless -id={creds.client_id} -secret={creds.client_secret}\\n'"
            ]
          },
          "metadata": {
            "tags": []
          },
          "execution_count": 3
        }
      ]
    },
    {
      "metadata": {
        "id": "Ff3d588QR222",
        "colab_type": "code",
        "colab": {
          "base_uri": "https://localhost:8080/",
          "height": 34
        },
        "outputId": "cc75567d-a3a6-47a1-d306-a7d0720a005b"
      },
      "cell_type": "code",
      "source": [
        "\"\"\"\n",
        "!mkdir -p drive\n",
        "!google-drive-ocamlfuse drive\n",
        "\"\"\""
      ],
      "execution_count": 4,
      "outputs": [
        {
          "output_type": "execute_result",
          "data": {
            "text/plain": [
              "'\\n!mkdir -p drive\\n!google-drive-ocamlfuse drive\\n'"
            ]
          },
          "metadata": {
            "tags": []
          },
          "execution_count": 4
        }
      ]
    },
    {
      "metadata": {
        "id": "sygnxAQpR4bp",
        "colab_type": "code",
        "colab": {}
      },
      "cell_type": "code",
      "source": [
        ""
      ],
      "execution_count": 0,
      "outputs": []
    },
    {
      "metadata": {
        "id": "xKxQMwumR5Lw",
        "colab_type": "text"
      },
      "cell_type": "markdown",
      "source": [
        "### Step 4 : Establishing Connection With Dropbox\n"
      ]
    },
    {
      "metadata": {
        "id": "xQdANNALR6Ob",
        "colab_type": "code",
        "colab": {
          "base_uri": "https://localhost:8080/",
          "height": 111
        },
        "outputId": "736ad519-2564-48be-c3a3-775eccccc200"
      },
      "cell_type": "code",
      "source": [
        "!git clone https://github.com/andreafabrizi/Dropbox-Uploader"
      ],
      "execution_count": 57,
      "outputs": [
        {
          "output_type": "stream",
          "text": [
            "Cloning into 'Dropbox-Uploader'...\n",
            "remote: Counting objects: 945, done.\u001b[K\n",
            "remote: Total 945 (delta 0), reused 0 (delta 0), pack-reused 945\u001b[K\n",
            "Receiving objects: 100% (945/945), 316.15 KiB | 19.76 MiB/s, done.\n",
            "Resolving deltas: 100% (502/502), done.\n"
          ],
          "name": "stdout"
        }
      ]
    },
    {
      "metadata": {
        "id": "bzC9UKFHR7lV",
        "colab_type": "code",
        "colab": {
          "base_uri": "https://localhost:8080/",
          "height": 36
        },
        "outputId": "4cb9e97a-5733-48d3-b428-28074688df67"
      },
      "cell_type": "code",
      "source": [
        "cd Dropbox-Uploader\n"
      ],
      "execution_count": 58,
      "outputs": [
        {
          "output_type": "stream",
          "text": [
            "/content/Dropbox-Uploader/Dropbox-Uploader/Dropbox-Uploader\n"
          ],
          "name": "stdout"
        }
      ]
    },
    {
      "metadata": {
        "id": "h27HJnU4R-D4",
        "colab_type": "code",
        "colab": {
          "base_uri": "https://localhost:8080/",
          "height": 634
        },
        "outputId": "88f3a7b0-b378-4d27-e375-837b1fd84ce4"
      },
      "cell_type": "code",
      "source": [
        "\n",
        "!chmod +x dropbox_uploader.sh\n",
        "!bash dropbox_uploader.sh"
      ],
      "execution_count": 59,
      "outputs": [
        {
          "output_type": "stream",
          "text": [
            "Dropbox Uploader v1.0\n",
            "Andrea Fabrizi - andrea.fabrizi@gmail.com\n",
            "\n",
            "Usage: dropbox_uploader.sh [PARAMETERS] COMMAND...\n",
            "\n",
            "Commands:\n",
            "\t upload   <LOCAL_FILE/DIR ...>  <REMOTE_FILE/DIR>\n",
            "\t download <REMOTE_FILE/DIR> [LOCAL_FILE/DIR]\n",
            "\t delete   <REMOTE_FILE/DIR>\n",
            "\t move     <REMOTE_FILE/DIR> <REMOTE_FILE/DIR>\n",
            "\t copy     <REMOTE_FILE/DIR> <REMOTE_FILE/DIR>\n",
            "\t mkdir    <REMOTE_DIR>\n",
            "\t list     [REMOTE_DIR]\n",
            "\t monitor  [REMOTE_DIR] [TIMEOUT]\n",
            "\t share    <REMOTE_FILE>\n",
            "\t saveurl  <URL> <REMOTE_DIR>\n",
            "\t search   <QUERY>\n",
            "\t info\n",
            "\t space\n",
            "\t unlink\n",
            "\n",
            "Optional parameters:\n",
            "\t-f <FILENAME> Load the configuration file from a specific file\n",
            "\t-s            Skip already existing files when download/upload. Default: Overwrite\n",
            "\t-d            Enable DEBUG mode\n",
            "\t-q            Quiet mode. Don't show messages\n",
            "\t-h            Show file sizes in human readable format\n",
            "\t-p            Show cURL progress meter\n",
            "\t-k            Doesn't check for SSL certificates (insecure)\n",
            "\t-x            Ignores/excludes directories or files from syncing. -x filename -x directoryname. example: -x .git\n",
            "\n",
            "For more info and examples, please see the README file.\n",
            "\n"
          ],
          "name": "stdout"
        }
      ]
    },
    {
      "metadata": {
        "id": "Gm9cfBmjR_dg",
        "colab_type": "code",
        "colab": {
          "base_uri": "https://localhost:8080/",
          "height": 634
        },
        "outputId": "0f08ca35-fd20-402b-f82f-5e8157ffd767"
      },
      "cell_type": "code",
      "source": [
        "!echo \"PO-jMtXtvHAAAAAAAAAAI99R1X1FBx6szaPBgVa7HuHJXQVp4kHGejxNz5l69OG2\">token.txt\n",
        "!bash dropbox_uploader.sh"
      ],
      "execution_count": 60,
      "outputs": [
        {
          "output_type": "stream",
          "text": [
            "Dropbox Uploader v1.0\n",
            "Andrea Fabrizi - andrea.fabrizi@gmail.com\n",
            "\n",
            "Usage: dropbox_uploader.sh [PARAMETERS] COMMAND...\n",
            "\n",
            "Commands:\n",
            "\t upload   <LOCAL_FILE/DIR ...>  <REMOTE_FILE/DIR>\n",
            "\t download <REMOTE_FILE/DIR> [LOCAL_FILE/DIR]\n",
            "\t delete   <REMOTE_FILE/DIR>\n",
            "\t move     <REMOTE_FILE/DIR> <REMOTE_FILE/DIR>\n",
            "\t copy     <REMOTE_FILE/DIR> <REMOTE_FILE/DIR>\n",
            "\t mkdir    <REMOTE_DIR>\n",
            "\t list     [REMOTE_DIR]\n",
            "\t monitor  [REMOTE_DIR] [TIMEOUT]\n",
            "\t share    <REMOTE_FILE>\n",
            "\t saveurl  <URL> <REMOTE_DIR>\n",
            "\t search   <QUERY>\n",
            "\t info\n",
            "\t space\n",
            "\t unlink\n",
            "\n",
            "Optional parameters:\n",
            "\t-f <FILENAME> Load the configuration file from a specific file\n",
            "\t-s            Skip already existing files when download/upload. Default: Overwrite\n",
            "\t-d            Enable DEBUG mode\n",
            "\t-q            Quiet mode. Don't show messages\n",
            "\t-h            Show file sizes in human readable format\n",
            "\t-p            Show cURL progress meter\n",
            "\t-k            Doesn't check for SSL certificates (insecure)\n",
            "\t-x            Ignores/excludes directories or files from syncing. -x filename -x directoryname. example: -x .git\n",
            "\n",
            "For more info and examples, please see the README file.\n",
            "\n"
          ],
          "name": "stdout"
        }
      ]
    },
    {
      "metadata": {
        "id": "961T3D1bSIFI",
        "colab_type": "code",
        "colab": {
          "base_uri": "https://localhost:8080/",
          "height": 430
        },
        "outputId": "7ab564a8-b949-4762-daad-97cb26d94bf3"
      },
      "cell_type": "code",
      "source": [
        "!bash dropbox_uploader.sh download sample"
      ],
      "execution_count": 61,
      "outputs": [
        {
          "output_type": "stream",
          "text": [
            " > Downloading folder \"/sample\" to \"/content/Dropbox-Uploader/Dropbox-Uploader/Dropbox-Uploader/sample\"... \n",
            " > Creating local directory \"/content/Dropbox-Uploader/Dropbox-Uploader/Dropbox-Uploader/sample\"... DONE\n",
            " > Downloading folder \"/sample/data\" to \"/content/Dropbox-Uploader/Dropbox-Uploader/Dropbox-Uploader/sample/data\"... \n",
            " > Creating local directory \"/content/Dropbox-Uploader/Dropbox-Uploader/Dropbox-Uploader/sample/data\"... DONE\n",
            " > Downloading folder \"/sample/data/apnea\" to \"/content/Dropbox-Uploader/Dropbox-Uploader/Dropbox-Uploader/sample/data/apnea\"... \n",
            " > Creating local directory \"/content/Dropbox-Uploader/Dropbox-Uploader/Dropbox-Uploader/sample/data/apnea\"... DONE\n",
            " > Downloading \"/sample/data/apnea/mesa-sleep-0001-profusion.xml\" to \"/content/Dropbox-Uploader/Dropbox-Uploader/Dropbox-Uploader/sample/data/apnea/mesa-sleep-0001-profusion.xml\"... DONE\n",
            " > Downloading folder \"/sample/data/flow\" to \"/content/Dropbox-Uploader/Dropbox-Uploader/Dropbox-Uploader/sample/data/flow\"... \n",
            " > Creating local directory \"/content/Dropbox-Uploader/Dropbox-Uploader/Dropbox-Uploader/sample/data/flow\"... DONE\n",
            " > Downloading \"/sample/data/flow/mesa-sleep-0001.edf\" to \"/content/Dropbox-Uploader/Dropbox-Uploader/Dropbox-Uploader/sample/data/flow/mesa-sleep-0001.edf\"... DONE\n",
            " > Downloading folder \"/sample/data/stage\" to \"/content/Dropbox-Uploader/Dropbox-Uploader/Dropbox-Uploader/sample/data/stage\"... \n",
            " > Creating local directory \"/content/Dropbox-Uploader/Dropbox-Uploader/Dropbox-Uploader/sample/data/stage\"... DONE\n",
            " > Downloading \"/sample/data/stage/mesa-sleep-0001-nsrr.xml\" to \"/content/Dropbox-Uploader/Dropbox-Uploader/Dropbox-Uploader/sample/data/stage/mesa-sleep-0001-nsrr.xml\"... DONE\n",
            " > Downloading folder \"/sample/output\" to \"/content/Dropbox-Uploader/Dropbox-Uploader/Dropbox-Uploader/sample/output\"... \n",
            " > Creating local directory \"/content/Dropbox-Uploader/Dropbox-Uploader/Dropbox-Uploader/sample/output\"... DONE\n",
            " > Downloading folder \"/sample/output/combined\" to \"/content/Dropbox-Uploader/Dropbox-Uploader/Dropbox-Uploader/sample/output/combined\"... \n",
            " > Creating local directory \"/content/Dropbox-Uploader/Dropbox-Uploader/Dropbox-Uploader/sample/output/combined\"... DONE\n",
            " > Downloading \"/sample/output/combined/mesa-sleep-0001.csv\" to \"/content/Dropbox-Uploader/Dropbox-Uploader/Dropbox-Uploader/sample/output/combined/mesa-sleep-0001.csv\"... DONE\n",
            " > Downloading \"/sample/output/mesa-sleep-0001-profusion.xml.csv\" to \"/content/Dropbox-Uploader/Dropbox-Uploader/Dropbox-Uploader/sample/output/mesa-sleep-0001-profusion.xml.csv\"... DONE\n",
            " > Downloading \"/sample/output/mesa-sleep-0001.edf.csv\" to \"/content/Dropbox-Uploader/Dropbox-Uploader/Dropbox-Uploader/sample/output/mesa-sleep-0001.edf.csv\"... DONE\n",
            " > Downloading \"/sample/output/mesa-sleep.xml.csv\" to \"/content/Dropbox-Uploader/Dropbox-Uploader/Dropbox-Uploader/sample/output/mesa-sleep.xml.csv\"... DONE\n"
          ],
          "name": "stdout"
        }
      ]
    },
    {
      "metadata": {
        "id": "fo72k1yCSJ25",
        "colab_type": "code",
        "colab": {}
      },
      "cell_type": "code",
      "source": [
        ""
      ],
      "execution_count": 0,
      "outputs": []
    },
    {
      "metadata": {
        "id": "FXpeDS-GSNHr",
        "colab_type": "text"
      },
      "cell_type": "markdown",
      "source": [
        "### **Step 5: Working with Apnea xml File**\n",
        "\n"
      ]
    },
    {
      "metadata": {
        "id": "Qad1yrvnSN2O",
        "colab_type": "code",
        "colab": {}
      },
      "cell_type": "code",
      "source": [
        "from google.colab import files\n",
        "import xml.etree.ElementTree as ET\n",
        "import csv"
      ],
      "execution_count": 0,
      "outputs": []
    },
    {
      "metadata": {
        "id": "5zXVuBgCSPBZ",
        "colab_type": "code",
        "colab": {
          "base_uri": "https://localhost:8080/",
          "height": 36
        },
        "outputId": "20f45879-cf55-4cfc-c60b-d40ce065d150"
      },
      "cell_type": "code",
      "source": [
        "#importing xml file\n",
        "#tree = ET.parse(\"drive/sample/data/apnea/mesa-sleep-0001-profusion.xml\")\n",
        "tree = ET.parse(\"/content/Dropbox-Uploader/sample/data/apnea/mesa-sleep-0001-profusion.xml\")\n",
        "root = tree.getroot()\n",
        "\n",
        "#opened a file for writing\n",
        "export_data = open('/content/Dropbox-Uploader/mesa-sleep-0001-profusion.csv', 'w', newline='')\n",
        "\n",
        "#created the csv writer object\n",
        "csvwriter = csv.writer(export_data)\n",
        "\n",
        "count = 0\n",
        "for mem1 in root.findall('ScoredEvents'):\n",
        "    for member in mem1.findall('ScoredEvent'):\n",
        "        if member.find('Name').text ==\"Hypopnea\" :\n",
        "            tag = []\n",
        "\n",
        "            if count == 0:\n",
        "                Duration_tag = member.find('Duration').tag\n",
        "                tag.append(Duration_tag)\n",
        "                Input_tag = member.find('Input').tag\n",
        "                tag.append(Input_tag)\n",
        "                Name_tag = member.find('Name').tag\n",
        "                tag.append(Name_tag)\n",
        "                Start_tag = member.find('Start').tag\n",
        "                tag.append(Start_tag)\n",
        "                csvwriter.writerow(tag)\n",
        "                count = count + 1\n",
        "\n",
        "            tag_val = []\n",
        "            Duration_val = member.find('Duration').text\n",
        "            tag_val.append(Duration_val)\n",
        "            Input_val = member.find('Input').text\n",
        "            tag_val.append(Input_val)\n",
        "            Name_val = member.find('Name').text\n",
        "            tag_val.append(Name_val)\n",
        "            Start_val = member.find('Start').text\n",
        "            tag_val.append(Start_val)\n",
        "            csvwriter.writerow(tag_val)\n",
        "            \n",
        "export_data.close()\n",
        "!bash dropbox_uploader.sh upload /content/Dropbox-Uploader/mesa-sleep-0001-profusion.csv mesa-sleep-0001-profusion.csv\n",
        "files.download('/content/Dropbox-Uploader/mesa-sleep-0001-profusion.csv')"
      ],
      "execution_count": 63,
      "outputs": [
        {
          "output_type": "stream",
          "text": [
            "> Skipping file \"/content/Dropbox-Uploader/mesa-sleep-0001-profusion.csv\", file exists with the same hash\n"
          ],
          "name": "stdout"
        }
      ]
    },
    {
      "metadata": {
        "id": "ga7dQXlDSQAw",
        "colab_type": "code",
        "colab": {}
      },
      "cell_type": "code",
      "source": [
        ""
      ],
      "execution_count": 0,
      "outputs": []
    },
    {
      "metadata": {
        "id": "rdMO8WucSSpb",
        "colab_type": "text"
      },
      "cell_type": "markdown",
      "source": [
        "### **Step 6: Working with Edf File**"
      ]
    },
    {
      "metadata": {
        "id": "pSPl1OJ9STGU",
        "colab_type": "code",
        "colab": {
          "base_uri": "https://localhost:8080/",
          "height": 54
        },
        "outputId": "52197e99-3076-4eb3-8073-dd8e9dc4cc04"
      },
      "cell_type": "code",
      "source": [
        "!pip install pyedflib\n",
        "import pyedflib"
      ],
      "execution_count": 64,
      "outputs": [
        {
          "output_type": "stream",
          "text": [
            "Requirement already satisfied: pyedflib in /usr/local/lib/python3.6/dist-packages (0.1.13)\n",
            "Requirement already satisfied: numpy>=1.9.1 in /usr/local/lib/python3.6/dist-packages (from pyedflib) (1.14.5)\n"
          ],
          "name": "stdout"
        }
      ]
    },
    {
      "metadata": {
        "id": "4b571Xd7SUYn",
        "colab_type": "code",
        "colab": {}
      },
      "cell_type": "code",
      "source": [
        "#!pip install mne"
      ],
      "execution_count": 0,
      "outputs": []
    },
    {
      "metadata": {
        "id": "nN81VRywSV8a",
        "colab_type": "code",
        "colab": {}
      },
      "cell_type": "code",
      "source": [
        "#ls"
      ],
      "execution_count": 0,
      "outputs": []
    },
    {
      "metadata": {
        "id": "UP7PbuBxSXDt",
        "colab_type": "code",
        "colab": {}
      },
      "cell_type": "code",
      "source": [
        "reader  =  pyedflib.EdfReader(\"/content/Dropbox-Uploader/sample/data/flow/mesa-sleep-0001.edf\")"
      ],
      "execution_count": 0,
      "outputs": []
    },
    {
      "metadata": {
        "id": "qUPYC05ySYo7",
        "colab_type": "code",
        "colab": {
          "base_uri": "https://localhost:8080/",
          "height": 36
        },
        "outputId": "2aac6a72-1b36-4743-d4f9-56c4a53b6919"
      },
      "cell_type": "code",
      "source": [
        "export_data = open('/content/Dropbox-Uploader/mesa-sleep-0001.edf.csv', 'w', newline='')\n",
        "writer = csv.writer(export_data)\n",
        "heading = []\n",
        "heading.append(\"Epoch\")\n",
        "heading.append(\"Flow\")\n",
        "writer.writerow(heading)"
      ],
      "execution_count": 68,
      "outputs": [
        {
          "output_type": "execute_result",
          "data": {
            "text/plain": [
              "12"
            ]
          },
          "metadata": {
            "tags": []
          },
          "execution_count": 68
        }
      ]
    },
    {
      "metadata": {
        "id": "h4MzEiPgSZn3",
        "colab_type": "code",
        "colab": {
          "base_uri": "https://localhost:8080/",
          "height": 56
        },
        "outputId": "d92e117d-4e62-4db0-9803-f7ef0ef65779"
      },
      "cell_type": "code",
      "source": [
        "signal_labels = reader.getSignalLabels() \n",
        "print(signal_labels) "
      ],
      "execution_count": 69,
      "outputs": [
        {
          "output_type": "stream",
          "text": [
            "['EKG', 'EOG-L', 'EOG-R', 'EMG', 'EEG1', 'EEG2', 'EEG3', 'Pres', 'Flow', 'Snore', 'Thor', 'Abdo', 'Leg', 'Therm', 'Pos', 'EKG_Off', 'EOG-L_Off', 'EOG-R_Off', 'EMG_Off', 'EEG1_Off', 'EEG2_Off', 'EEG3_Off', 'Pleth', 'OxStatus', 'SpO2', 'HR', 'DHR']\n"
          ],
          "name": "stdout"
        }
      ]
    },
    {
      "metadata": {
        "id": "5y1K9b7sSa64",
        "colab_type": "code",
        "colab": {}
      },
      "cell_type": "code",
      "source": [
        "signal_pos = 8\n",
        "total_data = reader.getNSamples()[signal_pos]\n",
        "arr = reader.readSignal(signal_pos)"
      ],
      "execution_count": 0,
      "outputs": []
    },
    {
      "metadata": {
        "id": "qytJJELsSb_c",
        "colab_type": "code",
        "colab": {}
      },
      "cell_type": "code",
      "source": [
        "#tag = [\"Epoch\",\"Flow\"]\n",
        "#csvwriter.writerow(tag)"
      ],
      "execution_count": 0,
      "outputs": []
    },
    {
      "metadata": {
        "id": "MxcPqdAKSc-g",
        "colab_type": "code",
        "colab": {}
      },
      "cell_type": "code",
      "source": [
        "import numpy as np\n",
        "import pandas as pd\n",
        "flow = list(map(lambda x: \"%.9f\" % arr[x], np.arange(total_data) ))\n",
        "epoch = list(map(lambda x: x/32, range(total_data)))"
      ],
      "execution_count": 0,
      "outputs": []
    },
    {
      "metadata": {
        "id": "jPras0kWSeCQ",
        "colab_type": "code",
        "colab": {}
      },
      "cell_type": "code",
      "source": [
        "result = {'Epoch':epoch,'Flow':flow}\n",
        "dataedf = pd.DataFrame(result, columns = ['Epoch', 'Flow'])\n",
        "\n",
        "dataedf.to_csv(\"/content/Dropbox-Uploader/mesa-sleep-0002.edf.csv\",index=False)\n",
        "\n",
        "!bash dropbox_uploader.sh upload /content/Dropbox-Uploader/mesa-sleep-0001.edf.csv mesa-sleep-0001.edf.csv\n",
        "files.download('/content/Dropbox-Uploader/mesa-sleep-0002.edf.csv')\n",
        "reader._close()"
      ],
      "execution_count": 0,
      "outputs": []
    },
    {
      "metadata": {
        "id": "Nv7TJOFiSfMp",
        "colab_type": "code",
        "colab": {}
      },
      "cell_type": "code",
      "source": [
        ""
      ],
      "execution_count": 0,
      "outputs": []
    },
    {
      "metadata": {
        "id": "2ZvxvABGShrf",
        "colab_type": "text"
      },
      "cell_type": "markdown",
      "source": [
        "### *Step 7: Working with Stage xml File*"
      ]
    },
    {
      "metadata": {
        "id": "nIp2xz3MSiMT",
        "colab_type": "code",
        "colab": {
          "base_uri": "https://localhost:8080/",
          "height": 34
        },
        "outputId": "dc72bcb5-27da-40c6-acf6-a37adc25b849"
      },
      "cell_type": "code",
      "source": [
        "#importing xml file\n",
        "tree = ET.parse(\"/content/Dropbox-Uploader/sample/data/stage/mesa-sleep-0001-nsrr.xml\")\n",
        "root = tree.getroot()\n",
        "\n",
        "#opened a file for writing\n",
        "export_data = open('/content/Dropbox-Uploader/mesa-sleep-0001-nsrr.csv', 'w', newline='')\n",
        "\n",
        "#created the csv writer object\n",
        "csvwriter = csv.writer(export_data)\n",
        "\n",
        "count = 0\n",
        "\n",
        "for mem1 in root.findall('ScoredEvents'):\n",
        "    for member in mem1.findall('ScoredEvent'):\n",
        "        if member.find('EventType').text ==\"Stages|Stages\" :\n",
        "            tag = []\n",
        "\n",
        "            if count == 0:\n",
        "                Duration_tag = member.find('Duration').tag\n",
        "                tag.append(Duration_tag)\n",
        "                Stage_tag = member.find('EventConcept').tag\n",
        "                tag.append(\"Stages\")\n",
        "                Start_tag = member.find('Start').tag\n",
        "                tag.append(Start_tag)\n",
        "                types = member.find('EventType').tag\n",
        "                tag.append(\"Type\")\n",
        "                csvwriter.writerow(tag)\n",
        "                count = count + 1\n",
        "                \n",
        "            tag_val = []\n",
        "            Duration_val = member.find('Duration').text\n",
        "            tag_val.append(Duration_val)\n",
        "            Stage_val = member.find('EventConcept').text\n",
        "            tag_val.append(Stage_val)\n",
        "            Start_val = member.find('Start').text\n",
        "            tag_val.append(Start_val)\n",
        "            types_val = member.find('EventType').text\n",
        "            tag_val.append(types_val)\n",
        "            csvwriter.writerow(tag_val)\n",
        "\n",
        "export_data.close()\n",
        "!bash dropbox_uploader.sh upload /content/Dropbox-Uploader/mesa-sleep-0001-nsrr.csv mesa-sleep-0001-nsrr.csv\n",
        "files.download('/content/Dropbox-Uploader/mesa-sleep-0001-nsrr.csv')"
      ],
      "execution_count": 33,
      "outputs": [
        {
          "output_type": "stream",
          "text": [
            " > Uploading \"/content/Dropbox-Uploader/mesa-sleep-0001-nsrr.csv\" to \"/mesa-sleep-0001-nsrr.csv\"... DONE\n"
          ],
          "name": "stdout"
        }
      ]
    },
    {
      "metadata": {
        "id": "GlYZaBUJSjsu",
        "colab_type": "code",
        "colab": {}
      },
      "cell_type": "code",
      "source": [
        ""
      ],
      "execution_count": 0,
      "outputs": []
    },
    {
      "metadata": {
        "id": "VGYBxAqgSk1N",
        "colab_type": "text"
      },
      "cell_type": "markdown",
      "source": [
        "### **Step 8: Combining all the file**"
      ]
    },
    {
      "metadata": {
        "id": "vm5jQ2aaSmBU",
        "colab_type": "code",
        "colab": {}
      },
      "cell_type": "code",
      "source": [
        "first_file = pd.read_csv(\"/content/Dropbox-Uploader/mesa-sleep-0001-profusion.csv\")\n",
        "second_file = pd.read_csv(\"/content/Dropbox-Uploader/mesa-sleep-0001.edf.csv\")\n",
        "third_file = pd.read_csv(\"/content/Dropbox-Uploader/mesa-sleep-0001-nsrr.csv\")\n",
        "combined_file = open('/content/Dropbox-Uploader/combined.csv', 'w', newline='')"
      ],
      "execution_count": 0,
      "outputs": []
    },
    {
      "metadata": {
        "id": "oyrfO-RUSnDM",
        "colab_type": "code",
        "colab": {
          "base_uri": "https://localhost:8080/",
          "height": 34
        },
        "outputId": "aaebd51c-247b-42a8-de6b-ffbe2fbb6cc3"
      },
      "cell_type": "code",
      "source": [
        "combined = csv.writer(combined_file)\n",
        "heading = []\n",
        "heading.append(\"Time\")\n",
        "heading.append(\"Flow\")\n",
        "heading.append(\"Apnea\")\n",
        "heading.append(\"Stage\")\n",
        "\n",
        "combined.writerow(heading)"
      ],
      "execution_count": 53,
      "outputs": [
        {
          "output_type": "execute_result",
          "data": {
            "text/plain": [
              "23"
            ]
          },
          "metadata": {
            "tags": []
          },
          "execution_count": 53
        }
      ]
    },
    {
      "metadata": {
        "id": "dVhu9qkoSoA7",
        "colab_type": "code",
        "colab": {}
      },
      "cell_type": "code",
      "source": [
        "first_file_rowcounter = 0\n",
        "third_file_rowcounter = 0\n",
        "for i in range(1382368):\n",
        "    val = []\n",
        "    val.append(second_file.loc[:, 'Epoch'][i])\n",
        "    val.append(second_file.loc[:, 'Flow'][i])\n",
        "    print(first_file_rowcounter)\n",
        "    if first_file_rowcounter<=85:\n",
        "      if second_file.loc[:, 'Epoch'][i] >=first_file.loc[:, 'Start'][first_file_rowcounter] +  first_file.loc[:, 'Duration'][first_file_rowcounter]:\n",
        "          first_file_rowcounter+=1\n",
        "      if second_file.loc[:, 'Epoch'][i] >= first_file.loc[:, 'Start'][first_file_rowcounter] and second_file.loc[:, 'Epoch'][i] < first_file.loc[:, 'Start'][first_file_rowcounter] +  first_file.loc[:, 'Duration'][first_file_rowcounter]:\n",
        "          val.append(1)\n",
        "      else:\n",
        "          val.append(0)\n",
        "    \n",
        "    if second_file.loc[:, 'Epoch'][i] >= third_file.loc[:, 'Start'][third_file_rowcounter] + third_file.loc[:, 'Duration'][third_file_rowcounter]:\n",
        "        third_file_rowcounter+=1\n",
        "    if second_file.loc[:, 'Epoch'][i] < third_file.loc[:, 'Start'][third_file_rowcounter] + third_file.loc[:, 'Duration'][third_file_rowcounter]:\n",
        "        valu = third_file.loc[:, 'Stages'][third_file_rowcounter]\n",
        "        indexed = valu.index(\"|\")\n",
        "        val.append(valu[indexed+1])\n",
        "    if i%100000==0:\n",
        "      print(i)\n",
        "    combined.writerow(val)"
      ],
      "execution_count": 0,
      "outputs": []
    },
    {
      "metadata": {
        "id": "qXDol3IKSqHJ",
        "colab_type": "code",
        "colab": {}
      },
      "cell_type": "code",
      "source": [
        "combined_file .close()\n",
        "files.download('/content/Dropbox-Uploader/combined.csv')\n",
        "!bash dropbox_uploader.sh upload /content/Dropbox-Uploader/combined.csv combined.csv"
      ],
      "execution_count": 0,
      "outputs": []
    },
    {
      "metadata": {
        "id": "Zy3suFOwX9Ro",
        "colab_type": "code",
        "colab": {}
      },
      "cell_type": "code",
      "source": [
        ""
      ],
      "execution_count": 0,
      "outputs": []
    }
  ]
}